{
 "cells": [
  {
   "cell_type": "code",
   "execution_count": 2,
   "metadata": {
    "collapsed": false
   },
   "outputs": [
    {
     "name": "stdout",
     "output_type": "stream",
     "text": [
      "Populating the interactive namespace from numpy and matplotlib\n"
     ]
    }
   ],
   "source": [
    "import itertools\n",
    "\n",
    "import pandas as pd\n",
    "import nimfa\n",
    "import scipy\n",
    "from timeit import default_timer as timer\n",
    "\n",
    "from sklearn.cluster import KMeans\n",
    "\n",
    "from hawkes.cluster import FormatAndSplit, ToSparse, GetClosestCustomerCluster\n",
    "from hawkes.utils import GetTimeSeriesFromDF, GetInfluenceMatrix\n",
    "from hawkes.hawkes import ExpectationMaximization, Q\n",
    "\n",
    "%pylab inline\n",
    "%load_ext autoreload\n",
    "%autoreload 2"
   ]
  },
  {
   "cell_type": "code",
   "execution_count": 3,
   "metadata": {
    "collapsed": false
   },
   "outputs": [
    {
     "name": "stderr",
     "output_type": "stream",
     "text": [
      "/Users/arnaud/anaconda/lib/python2.7/site-packages/IPython/core/interactiveshell.py:2902: DtypeWarning: Columns (9,53) have mixed types. Specify dtype option on import or set low_memory=False.\n",
      "  interactivity=interactivity, compiler=compiler, result=result)\n"
     ]
    }
   ],
   "source": [
    "df = pd.read_csv('/Users/arnaud/cellule/data/bnpp/ETSAnonymousPricesFull.csv')"
   ]
  },
  {
   "cell_type": "code",
   "execution_count": 4,
   "metadata": {
    "collapsed": false
   },
   "outputs": [],
   "source": [
    "train_df, train_coo, test_df, test_coo = FormatAndSplit(df, cut_date=pd.to_datetime('20131231', format='%Y%m%d'))"
   ]
  },
  {
   "cell_type": "code",
   "execution_count": 22,
   "metadata": {
    "collapsed": false
   },
   "outputs": [],
   "source": [
    "ranks = [2, 3, 4, 5, 6, 7, 8, 9, 10]\n",
    "\n",
    "def plop(rank, ntries=5):\n",
    "    \n",
    "    print rank\n",
    "    scores = []\n",
    "    for i in range(ntries):\n",
    "\n",
    "        #### TRAIN\n",
    "\n",
    "        # Clustering model\n",
    "        cust = GetClosestCustomerCluster('GAZPRU', train_coo, train_df, rank=rank)\n",
    "        print \"Cluster closest to GAZPRU: %s\" % cust\n",
    "\n",
    "        idx = [c in cust for c in train_df['Customer']]\n",
    "        dd = train_df.ix[idx, :]\n",
    "        print \"Train set after filtering: %s\" % str(dd.shape)\n",
    "\n",
    "        # Leader-Follower model\n",
    "        train_time, train_mark = GetTimeSeriesFromDF(dd)\n",
    "        mu, a, b, p = ExpectationMaximization(train_time, niter=100)\n",
    "\n",
    "        customer_ids = train_mark[\"Customer\"].values\n",
    "        g, unique_ids = GetInfluenceMatrix(p, customer_ids)\n",
    "\n",
    "        #### TEST\n",
    "\n",
    "        idx = [c in cust for c in test_df['Customer']]\n",
    "        dd = test_df.ix[idx, :]\n",
    "        print \"Test set after filtering: %s\" % str(dd.shape)\n",
    "\n",
    "        test_time, test_mark = GetTimeSeriesFromDF(dd)\n",
    "\n",
    "        gg = g.copy()\n",
    "        threshold = 0.01\n",
    "        gg[gg < threshold] = 0\n",
    "        print \"Number of strong inluencers: %s\" % sum(gg > 0)\n",
    "\n",
    "        influencer_dict = dict((unique_ids[i], unique_ids[l]) for i, l in enumerate(scipy.sparse.lil_matrix(gg).rows) if l != [])\n",
    "\n",
    "        customer_ids_test = test_mark[\"Customer\"].values\n",
    "\n",
    "        tpr = 0\n",
    "        fpr = 0\n",
    "        k = 100\n",
    "        m = 0\n",
    "        for influencer, influencee in influencer_dict.iteritems():\n",
    "            for i in np.where(customer_ids_test == influencer)[0]:\n",
    "                m += 1\n",
    "                tpr += sum(j in influencee for j in customer_ids_test[i: i + k]) / float(k)\n",
    "                fpr += (k - sum(j in influencee for j in customer_ids_test[i: i + k])) / float(k)\n",
    "\n",
    "        tpr /= m\n",
    "        fpr /= m\n",
    "        scores.append(tpr)\n",
    "    return scores"
   ]
  },
  {
   "cell_type": "code",
   "execution_count": 23,
   "metadata": {
    "collapsed": false
   },
   "outputs": [],
   "source": [
    "from joblib import Parallel, delayed"
   ]
  },
  {
   "cell_type": "code",
   "execution_count": null,
   "metadata": {
    "collapsed": false
   },
   "outputs": [
    {
     "name": "stdout",
     "output_type": "stream",
     "text": [
      "Cluster closest to GAZPRU: set([577, 674, 1284, 906, 737, 268, 1002, 492, 205, 14, 612, 212, 698, 482, 932, 314, 763, 957, 1028, 415])\n",
      "Train set after filtering: (5614, 58)\n",
      "Test set after filtering: (9141, 58)\n",
      "Number of strong inluencers: 1\n",
      "Cluster closest to GAZPRU: set([577, 674, 1028, 815, 673, 1002, 875, 492, 482, 14, 751, 612, 1170, 275, 212, 398, 1284, 698, 932, 906])\n",
      "Train set after filtering: (4649, 58)\n",
      "Test set after filtering: (8526, 58)\n",
      "Number of strong inluencers: 3\n",
      "Cluster closest to GAZPRU: set([673, 259, 1028, 1061, 1284, 577, 268, 1002, 875, 492, 205, 14, 815, 1170, 212, 612, 698, 763, 906, 751])\n",
      "Train set after filtering: (5211, 58)\n",
      "Test set after filtering: (9057, 58)\n",
      "Number of strong inluencers: 6\n",
      "Cluster closest to GAZPRU: set([577, 674, 1028, 673, 314, 1002, 492, 482, 14, 751, 612, 1170, 275, 212, 398, 1284, 698, 932, 957, 415])\n",
      "Train set after filtering: (5190, 58)\n",
      "Test set after filtering: (8869, 58)\n",
      "Number of strong inluencers: 1\n",
      "Cluster closest to GAZPRU: set([577, 674, 1028, 673, 314, 1002, 875, 492, 482, 14, 612, 1170, 275, 212, 398, 1284, 698, 932, 957, 415])\n",
      "Train set after filtering: (5128, 58)\n",
      "Test set after filtering: (8886, 58)\n",
      "Number of strong inluencers: 3\n",
      "Cluster closest to GAZPRU: set([243, 577, 1028, 229, 1284, 673, 268, 1002, 875, 492, 14, 751, 1170, 275, 212, 398, 612, 698, 815, 1061])\n",
      "Train set after filtering: (5394, 58)\n",
      "Test set after filtering: (9812, 58)\n",
      "Number of strong inluencers: 6\n",
      "Cluster closest to GAZPRU: set([577, 674, 283, 1284, 229, 776, 1002, 14, 957, 1170, 275, 398, 377, 696, 612, 698, 932, 506, 1028, 751])\n",
      "Train set after filtering: (4475, 58)\n",
      "Test set after filtering: (9363, 58)\n",
      "Number of strong inluencers: 5\n",
      "Cluster closest to GAZPRU: set([577, 674, 1284, 906, 776, 268, 1002, 492, 14, 815, 1170, 275, 212, 366, 612, 698, 763, 957, 1028, 415])\n",
      "Train set after filtering: (5136, 58)\n",
      "Test set after filtering: (8847, 58)\n",
      "Number of strong inluencers: 1\n",
      "Cluster closest to GAZPRU: set([577, 674, 867, 1028, 673, 1002, 875, 492, 482, 14, 815, 612, 1170, 275, 212, 398, 1284, 698, 932, 751])\n",
      "Train set after filtering: (4617, 58)\n",
      "Test set after filtering: (8574, 58)\n",
      "Number of strong inluencers: 4\n",
      "Cluster closest to GAZPRU: set([577, 674, 1347, 1284, 229, 673, 776, 1002, 492, 14, 815, 612, 366, 398, 593, 377, 932, 698, 506, 1028])\n",
      "Train set after filtering: (4661, 58)\n",
      "Test set after filtering: (8693, 58)\n",
      "Number of strong inluencers: 2\n",
      "Cluster closest to GAZPRU: set([577, 674, 932, 737, 268, 906, 492, 205, 14, 1002, 1170, 212, 612, 1028, 1284, 698, 763, 957, 673, 415])\n",
      "Train set after filtering: (5057, 58)\n",
      "Test set after filtering: (8902, 58)\n",
      "Number of strong inluencers: 1\n",
      "Cluster closest to GAZPRU: set([577, 674, 867, 932, 650, 737, 275, 906, 587, 366, 957, 433, 51, 212, 686, 40, 1284, 314, 698, 415])\n",
      "Train set after filtering: (5027, 58)\n",
      "Test set after filtering: (9006, 58)\n",
      "Number of strong inluencers: 2\n",
      "Cluster closest to GAZPRU: set([906, 673, 1028, 229, 1284, 577, 932, 1002, 875, 492, 14, 751, 1170, 275, 398, 343, 612, 698, 815, 957])\n",
      "Train set after filtering: (4479, 58)\n",
      "Test set after filtering: (8688, 58)\n",
      "Number of strong inluencers: 3\n",
      "Cluster closest to GAZPRU: set([577, 674, 1284, 737, 314, 268, 1002, 492, 205, 14, 612, 1170, 275, 212, 366, 1028, 698, 763, 957, 415])\n",
      "Train set after filtering: (5897, 58)\n",
      "Test set after filtering: (9709, 58)\n",
      "Number of strong inluencers: 1\n",
      "Cluster closest to GAZPRU: set([243, 577, 674, 1028, 229, 1284, 673, 932, 1002, 875, 492, 14, 751, 1170, 275, 212, 398, 612, 698, 815])\n",
      "Train set after filtering: (5263, 58)\n",
      "Test set after filtering: (9357, 58)\n",
      "Number of strong inluencers: 3\n",
      "Cluster closest to GAZPRU: set([577, 674, 612, 1222, 698, 492, 1002, 268, 14, 815, 80, 1170, 1043, 212, 1284, 506, 763, 957, 510, 415])\n",
      "Train set after filtering: (5271, 58)\n",
      "Test set after filtering: (10557, 58)\n",
      "Number of strong inluencers: 1\n",
      "Cluster closest to GAZPRU: set([577, 674, 1284, 673, 268, 1002, 875, 492, 14, 957, 612, 1170, 212, 366, 1028, 698, 932, 751, 906, 415])\n",
      "Train set after filtering: (4815, 58)\n",
      "Test set after filtering: (8506, 58)\n",
      "Number of strong inluencers: 3\n",
      "Cluster closest to GAZPRU: set([577, 1028, 229, 1284, 673, 1002, 875, 492, 14, 815, 80, 1170, 275, 212, 906, 398, 612, 698, 751, 506])\n",
      "Train set after filtering: (5269, 58)\n",
      "Test set after filtering: (11304, 58)\n",
      "Number of strong inluencers: 1\n",
      "Cluster closest to GAZPRU: set([673, 674, 259, 932, 577, 906, 492, 14, 957, 612, 1170, 275, 212, 398, 377, 1284, 698, 815, 1002, 1028])\n",
      "Train set after filtering: (4971, 58)"
     ]
    }
   ],
   "source": [
    "Parallel(n_jobs=5)(plop(rank=i) for i in range(2, 10))"
   ]
  },
  {
   "cell_type": "code",
   "execution_count": null,
   "metadata": {
    "collapsed": true
   },
   "outputs": [],
   "source": []
  }
 ],
 "metadata": {
  "kernelspec": {
   "display_name": "Python 2",
   "language": "python",
   "name": "python2"
  },
  "language_info": {
   "codemirror_mode": {
    "name": "ipython",
    "version": 2
   },
   "file_extension": ".py",
   "mimetype": "text/x-python",
   "name": "python",
   "nbconvert_exporter": "python",
   "pygments_lexer": "ipython2",
   "version": "2.7.11"
  }
 },
 "nbformat": 4,
 "nbformat_minor": 0
}
