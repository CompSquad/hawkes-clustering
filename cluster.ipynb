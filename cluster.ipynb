{
 "cells": [
  {
   "cell_type": "code",
   "execution_count": 1,
   "metadata": {
    "collapsed": false
   },
   "outputs": [
    {
     "name": "stdout",
     "output_type": "stream",
     "text": [
      "Populating the interactive namespace from numpy and matplotlib\n"
     ]
    }
   ],
   "source": [
    "import pandas as pd\n",
    "import nimfa\n",
    "import scipy\n",
    "from timeit import default_timer as timer\n",
    "\n",
    "from sklearn.cluster import KMeans\n",
    "\n",
    "from hawkes.cluster import FormatAndSplit, ToSparse, GetClosestCustomerCluster\n",
    "from hawkes.utils import GetTimeSeriesFromDF, GetInfluenceMatrix\n",
    "from hawkes.hawkes import ExpectationMaximization, Q\n",
    "\n",
    "%pylab inline\n",
    "%load_ext autoreload\n",
    "%autoreload 2"
   ]
  },
  {
   "cell_type": "code",
   "execution_count": 2,
   "metadata": {
    "collapsed": false
   },
   "outputs": [
    {
     "name": "stderr",
     "output_type": "stream",
     "text": [
      "/Users/arnaud/anaconda/lib/python2.7/site-packages/IPython/core/interactiveshell.py:2902: DtypeWarning: Columns (9,53) have mixed types. Specify dtype option on import or set low_memory=False.\n",
      "  interactivity=interactivity, compiler=compiler, result=result)\n"
     ]
    }
   ],
   "source": [
    "df = pd.read_csv('/Users/arnaud/cellule/data/bnpp/ETSAnonymousPricesFull.csv')"
   ]
  },
  {
   "cell_type": "code",
   "execution_count": 3,
   "metadata": {
    "collapsed": false
   },
   "outputs": [],
   "source": [
    "train_df, train_coo, test_df, test_coo = FormatAndSplit(df, cut_date=pd.to_datetime('20131106', format='%Y%m%d'))"
   ]
  },
  {
   "cell_type": "code",
   "execution_count": 26,
   "metadata": {
    "collapsed": false
   },
   "outputs": [
    {
     "name": "stdout",
     "output_type": "stream",
     "text": [
      "Cluster closest to GAZPRU: set([385, 523, 269, 656, 145, 1299, 791, 1314, 1069, 826, 151, 1085, 960, 69, 967, 208, 469, 348, 864, 1303, 997, 747, 1260, 111])\n",
      "Train set after filtering: (4881, 58)\n"
     ]
    }
   ],
   "source": [
    "#### TRAIN\n",
    "\n",
    "# Clustering model\n",
    "cust = GetClosestCustomerCluster('GAZPRU', train_coo, train_df, M_clusters=10, N_clusters=7)\n",
    "print \"Cluster closest to GAZPRU: %s\" % cust\n",
    "\n",
    "idx = [c in cust for c in train_df['Customer']]\n",
    "dd = train_df.ix[idx, :]\n",
    "print \"Train set after filtering: %s\" % str(dd.shape)\n",
    "\n",
    "# Leader-Follower model\n",
    "train_time, train_mark = GetTimeSeriesFromDF(dd)\n",
    "mu, a, b, p = ExpectationMaximization(train_time, niter=100)\n",
    "\n",
    "customer_ids = train_mark[\"Customer\"].values\n",
    "g, unique_ids = GetInfluenceMatrix(p, customer_ids)"
   ]
  },
  {
   "cell_type": "code",
   "execution_count": 29,
   "metadata": {
    "collapsed": false
   },
   "outputs": [
    {
     "name": "stdout",
     "output_type": "stream",
     "text": [
      "Test set after filtering: (8733, 58)\n",
      "Number of strong inluencers: 495\n",
      "tpr = 0.999\n",
      "fpr = 0.001\n"
     ]
    }
   ],
   "source": [
    "#### TEST\n",
    "\n",
    "idx = [c in cust for c in test_df['Customer']]\n",
    "dd = test_df.ix[idx, :]\n",
    "print \"Test set after filtering: %s\" % str(dd.shape)\n",
    "\n",
    "test_time, test_mark = GetTimeSeriesFromDF(dd)\n",
    "\n",
    "gg = g.copy()\n",
    "threshold = 0.\n",
    "gg[gg < threshold] = 0\n",
    "print \"Number of strong inluencers: %s\" % sum(gg > 0)\n",
    "\n",
    "influencer_dict = dict((unique_ids[i], unique_ids[l]) for i, l in enumerate(scipy.sparse.lil_matrix(gg).rows) if l != [])\n",
    "\n",
    "customer_ids_test = test_mark[\"Customer\"].values\n",
    "\n",
    "tpr = 0\n",
    "fpr = 0\n",
    "k = 10\n",
    "m = 0\n",
    "for influencer, influencee in influencer_dict.iteritems():\n",
    "    for i in np.where(customer_ids_test == influencer)[0]:\n",
    "        m += 1\n",
    "        tpr += sum(j in influencee for j in customer_ids_test[i: i + k]) / float(k)\n",
    "        fpr += (k - sum(j in influencee for j in customer_ids_test[i: i + k])) / float(k)\n",
    "\n",
    "tpr /= m\n",
    "fpr /= m\n",
    "\n",
    "print \"tpr = %.3f\" % tpr\n",
    "print \"fpr = %.3f\" % fpr"
   ]
  },
  {
   "cell_type": "code",
   "execution_count": null,
   "metadata": {
    "collapsed": true
   },
   "outputs": [],
   "source": []
  }
 ],
 "metadata": {
  "kernelspec": {
   "display_name": "Python 2",
   "language": "python",
   "name": "python2"
  },
  "language_info": {
   "codemirror_mode": {
    "name": "ipython",
    "version": 2
   },
   "file_extension": ".py",
   "mimetype": "text/x-python",
   "name": "python",
   "nbconvert_exporter": "python",
   "pygments_lexer": "ipython2",
   "version": "2.7.11"
  }
 },
 "nbformat": 4,
 "nbformat_minor": 0
}
