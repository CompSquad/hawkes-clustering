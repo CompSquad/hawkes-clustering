{
 "cells": [
  {
   "cell_type": "code",
   "execution_count": 1,
   "metadata": {
    "collapsed": false
   },
   "outputs": [
    {
     "name": "stdout",
     "output_type": "stream",
     "text": [
      "Populating the interactive namespace from numpy and matplotlib\n"
     ]
    }
   ],
   "source": [
    "import itertools\n",
    "\n",
    "import pandas as pd\n",
    "import nimfa\n",
    "import scipy\n",
    "from timeit import default_timer as timer\n",
    "\n",
    "from sklearn.cluster import KMeans\n",
    "\n",
    "from hawkes.cluster import FormatAndSplit, ToSparse, GetClosestCustomers\n",
    "from hawkes.utils import GetTimeSeriesFromDF, GetInfluenceMatrix\n",
    "from hawkes.hawkes import ExpectationMaximization, Q\n",
    "\n",
    "%pylab inline\n",
    "%load_ext autoreload\n",
    "%autoreload 2"
   ]
  },
  {
   "cell_type": "code",
   "execution_count": 2,
   "metadata": {
    "collapsed": false
   },
   "outputs": [
    {
     "name": "stderr",
     "output_type": "stream",
     "text": [
      "/Users/arnaud/anaconda/lib/python2.7/site-packages/IPython/core/interactiveshell.py:2902: DtypeWarning: Columns (9,53) have mixed types. Specify dtype option on import or set low_memory=False.\n",
      "  interactivity=interactivity, compiler=compiler, result=result)\n"
     ]
    }
   ],
   "source": [
    "df = pd.read_csv('/Users/arnaud/cellule/data/bnpp/ETSAnonymousPricesFull.csv')"
   ]
  },
  {
   "cell_type": "code",
   "execution_count": 3,
   "metadata": {
    "collapsed": false
   },
   "outputs": [],
   "source": [
    "train_df, train_coo, test_df, test_coo, ticker_idx = FormatAndSplit(df, cut_date=pd.to_datetime('20131231', format='%Y%m%d'))"
   ]
  },
  {
   "cell_type": "code",
   "execution_count": 24,
   "metadata": {
    "collapsed": false
   },
   "outputs": [],
   "source": [
    "ranks = [2, 3, 4, 5, 6, 7, 8, 9, 10]\n",
    "\n",
    "def plop(rank, k=100, ntries=1):\n",
    "    \n",
    "    print rank\n",
    "    scores = []\n",
    "    for i in range(ntries):\n",
    "\n",
    "        #### TRAIN\n",
    "\n",
    "        # Clustering model\n",
    "        cust = GetClosestCustomers(ticker_idx['GAZPRU'], train_coo, rank=rank)\n",
    "        print \"Customers closest to GAZPRU: %s\" % cust\n",
    "\n",
    "        idx = [c in cust for c in train_df['Customer']]\n",
    "        dd = train_df.ix[idx, :]\n",
    "        print \"Train set after filtering: %s\" % str(dd.shape)\n",
    "\n",
    "        # Leader-Follower model\n",
    "        train_time, train_mark = GetTimeSeriesFromDF(dd)\n",
    "        mu, a, b, p = ExpectationMaximization(train_time, niter=100)\n",
    "\n",
    "        customer_ids = train_mark[\"Customer\"].values\n",
    "        g, unique_ids = GetInfluenceMatrix(p, customer_ids)\n",
    "\n",
    "        #### TEST\n",
    "\n",
    "        idx = [c in cust for c in test_df['Customer']]\n",
    "        dd = test_df.ix[idx, :]\n",
    "        print \"Test set after filtering: %s\" % str(dd.shape)\n",
    "\n",
    "        test_time, test_mark = GetTimeSeriesFromDF(dd)\n",
    "\n",
    "        gg = g.copy()\n",
    "        threshold = 0.01\n",
    "        gg[gg < threshold] = 0\n",
    "        print \"Number of strong inluencers: %s\" % sum(gg > 0)\n",
    "\n",
    "        influencer_dict = dict((unique_ids[i], unique_ids[l]) for i, l in enumerate(scipy.sparse.lil_matrix(gg).rows) if l != [])\n",
    "\n",
    "        customer_ids_test = test_mark[\"Customer\"].values\n",
    "\n",
    "        tpr = 0\n",
    "        fpr = 0\n",
    "        m = 0\n",
    "        for influencer, influencee in influencer_dict.iteritems():\n",
    "            for i in np.where(customer_ids_test == influencer)[0]:\n",
    "                m += 1\n",
    "                tpr += sum(j in influencee for j in customer_ids_test[i: i + k]) / float(k)\n",
    "                fpr += (k - sum(j in influencee for j in customer_ids_test[i: i + k])) / float(k)\n",
    "\n",
    "        if m > 0:\n",
    "            tpr /= m\n",
    "            fpr /= m\n",
    "            scores.append(tpr)\n",
    "        else:\n",
    "            scores.append(None)\n",
    "    return scores"
   ]
  },
  {
   "cell_type": "code",
   "execution_count": null,
   "metadata": {
    "collapsed": true
   },
   "outputs": [],
   "source": [
    "s = defaultdict(list)"
   ]
  },
  {
   "cell_type": "code",
   "execution_count": 29,
   "metadata": {
    "collapsed": false,
    "scrolled": false
   },
   "outputs": [
    {
     "name": "stdout",
     "output_type": "stream",
     "text": [
      "25\n",
      "Customers closest to GAZPRU: [ 527  901  992 1052 1140  222  275 1218  686  691  916  942  433  202  601\n",
      "  351    7  126 1075  286]\n",
      "Train set after filtering: (7892, 58)\n",
      "Test set after filtering: (15127, 58)\n",
      "Number of strong inluencers: 1\n",
      "Customers closest to GAZPRU: [ 992  686 1052  249  351  371  569 1075   43  499 1076  346  397  330  126\n",
      "  155  609   51  749  662]\n",
      "Train set after filtering: (5191, 58)\n",
      "Test set after filtering: (11276, 58)\n",
      "Number of strong inluencers: 2\n",
      "Customers closest to GAZPRU: [ 126 1052  202  686  155  410  472  992  569  901  527 1076  609 1075 1241\n",
      "  916   51  422  918  275]\n",
      "Train set after filtering: (4074, 58)\n",
      "Test set after filtering: (7903, 58)\n",
      "Number of strong inluencers: 1\n",
      "Customers closest to GAZPRU: [  43  351 1005  992  249  569  686  422  749  307  346 1075 1218  635 1254\n",
      "  868  371 1076  275  125]\n",
      "Train set after filtering: (4134, 58)\n",
      "Test set after filtering: (7625, 58)\n",
      "Number of strong inluencers: 3\n",
      "Customers closest to GAZPRU: [ 617  543   74  527 1191  558 1043  848 1177  159 1028  893  508   29 1144\n",
      " 1079 1087  686  314  410]\n",
      "Train set after filtering: (4602, 58)\n",
      "Test set after filtering: (9197, 58)\n",
      "Number of strong inluencers: 1\n",
      "30\n",
      "Customers closest to GAZPRU: [ 992  275  371  617   29 1236   25  664 1079  351  686  377  249 1191  749\n",
      " 1220  635  669 1136  558]\n",
      "Train set after filtering: (5515, 58)\n",
      "Test set after filtering: (11943, 58)\n",
      "Number of strong inluencers: 4\n",
      "Customers closest to GAZPRU: [ 686  569  992 1075 1052  351  918  527  422  691  357   43  126  155 1218\n",
      "  249  223  901  337  410]\n",
      "Train set after filtering: (4096, 58)\n",
      "Test set after filtering: (9335, 58)\n",
      "Number of strong inluencers: 3\n",
      "Customers closest to GAZPRU: [ 275  635  901  992  627  176  351 1218 1050  433   25  527  669   28  382\n",
      "  126  346  749  314 1236]\n",
      "Train set after filtering: (6455, 58)\n",
      "Test set after filtering: (14155, 58)\n",
      "Number of strong inluencers: 5\n",
      "Customers closest to GAZPRU: [ 669  686  992  662  569 1087  314  126  787  887  141  527  738 1177  499\n",
      "  918  630 1076  410 1075]\n",
      "Train set after filtering: (2777, 58)\n",
      "Test set after filtering: (4638, 58)\n",
      "Number of strong inluencers: 3\n",
      "Customers closest to GAZPRU: [ 609  155  992  397 1075 1052  569  686  249  351  422  126   51   43  860\n",
      "  536  527    7  691   40]\n",
      "Train set after filtering: (11081, 58)\n",
      "Test set after filtering: (23384, 58)\n",
      "Number of strong inluencers: 1\n",
      "35\n",
      "Customers closest to GAZPRU: [  43  351  992  749  346  686 1075  249 1254  569 1005  176  662  125  635\n",
      "  371  787  378  617   60]\n",
      "Train set after filtering: (5046, 58)\n",
      "Test set after filtering: (10515, 58)\n",
      "Number of strong inluencers: 3\n",
      "Customers closest to GAZPRU: [ 249  992  569 1052  686 1075  351  371  422  155   43  275   51 1076 1218\n",
      "  346  918  357  662  527]\n",
      "Train set after filtering: (4546, 58)\n",
      "Test set after filtering: (10423, 58)\n",
      "Number of strong inluencers: 1\n",
      "Customers closest to GAZPRU: [1075  686  569  275    7 1218  992  527 1052  346  422  202  137  113  901\n",
      "  480  733  963 1076  916]\n",
      "Train set after filtering: (8182, 58)\n",
      "Test set after filtering: (15393, 58)\n",
      "Number of strong inluencers: 1\n",
      "Customers closest to GAZPRU: [ 901  795   84   38  484  566  699 1039  275  377 1140  527  222 1116  168\n",
      " 1236   12 1028  472  438]\n",
      "Train set after filtering: (8178, 58)\n",
      "Test set after filtering: (15096, 58)\n",
      "Number of strong inluencers: 0\n",
      "Customers closest to GAZPRU: [ 569  686  918  422 1052  357  155 1075  662  907  410  684 1076   51  307\n",
      "  527  346  992  126  861]\n",
      "Train set after filtering: (3816, 58)\n",
      "Test set after filtering: (7818, 58)\n",
      "Number of strong inluencers: 0\n",
      "40\n",
      "Customers closest to GAZPRU: [ 992  371 1079  351 1052 1087  703  360  645 1252  410  825  249  781 1130\n",
      " 1236  987  573   25  549]\n",
      "Train set after filtering: (3584, 58)\n",
      "Test set after filtering: (7735, 58)\n",
      "Number of strong inluencers: 9\n",
      "Customers closest to GAZPRU: [ 371  249  351 1254  992  686  787   43 1005  346 1079  662  569 1076  307\n",
      "  773 1240  617  635 1052]\n",
      "Train set after filtering: (2952, 58)\n",
      "Test set after filtering: (6202, 58)\n",
      "Number of strong inluencers: 4\n",
      "Customers closest to GAZPRU: [ 992  351  901 1236  749 1075  275   25 1140 1220  669  699  635  382  825\n",
      "  176  617  168  686  987]\n",
      "Train set after filtering: (3714, 58)\n",
      "Test set after filtering: (9279, 58)\n",
      "Number of strong inluencers: 8\n",
      "Customers closest to GAZPRU: [1052  686  410  202 1076  569 1075  527  126  992  901 1130  346  916  155\n",
      "  472  918  141  703  733]\n",
      "Train set after filtering: (3430, 58)\n",
      "Test set after filtering: (6128, 58)\n",
      "Number of strong inluencers: 3\n",
      "Customers closest to GAZPRU: [ 422  569  868   43  307  249  686 1005 1075  351  346 1052  907  860  992\n",
      "   51 1254  371  773  374]\n",
      "Train set after filtering: (4239, 58)\n",
      "Test set after filtering: (8920, 58)\n",
      "Number of strong inluencers: 0\n",
      "45\n",
      "Customers closest to GAZPRU: [1005 1254   43  346 1075  125  749  787  992  176  249  158  569  738  997\n",
      "  314  307  635  275  480]\n",
      "Train set after filtering: (4859, 58)\n",
      "Test set after filtering: (9181, 58)\n",
      "Number of strong inluencers: 2\n",
      "Customers closest to GAZPRU: [ 374  351  635   43 1005  992  371  249 1254  749  125  627  346  686  314\n",
      "  569  662  787  868 1079]\n",
      "Train set after filtering: (4274, 58)\n",
      "Test set after filtering: (7270, 58)\n",
      "Number of strong inluencers: 1\n",
      "Customers closest to GAZPRU: [ 155  686 1052  569  609  992 1075  126  422 1076  918   51   40  410  237\n",
      "  357  249  346  307  662]\n",
      "Train set after filtering: (5222, 58)\n",
      "Test set after filtering: (12180, 58)\n",
      "Number of strong inluencers: 0\n",
      "Customers closest to GAZPRU: [1140  424  480  901  601  275  430 1036 1043  527   31  979  982  113 1075\n",
      "  286  245  346  617  222]\n",
      "Train set after filtering: (4630, 58)\n",
      "Test set after filtering: (9428, 58)\n",
      "Number of strong inluencers: 1\n",
      "Customers closest to GAZPRU: [ 569  422  963  307  155 1075  907   51  346  686 1052  357  249  527  951\n",
      "  137  992 1005  904  861]\n",
      "Train set after filtering: (4028, 58)\n",
      "Test set after filtering: (7672, 58)\n",
      "Number of strong inluencers: 0\n",
      "50\n",
      "Customers closest to GAZPRU: [1087 1076  371 1236 1052  992  351  953  141 1130  686   25  410  249 1079\n",
      "  126   63  705  330  573]\n",
      "Train set after filtering: (6065, 58)\n",
      "Test set after filtering: (11703, 58)\n",
      "Number of strong inluencers: 6\n",
      "Customers closest to GAZPRU: [1075  686  992  569 1052  422 1218  527 1236 1007  357  493  901  918  480\n",
      "  275  155  681  691  126]\n",
      "Train set after filtering: (2222, 58)\n",
      "Test set after filtering: (5546, 58)\n",
      "Number of strong inluencers: 6\n",
      "Customers closest to GAZPRU: [ 569  686  410 1052 1075  155  918  126  357  202  527  422 1076  992  916\n",
      "  901   63  691  237  137]\n",
      "Train set after filtering: (4751, 58)\n",
      "Test set after filtering: (9004, 58)\n",
      "Number of strong inluencers: 9\n",
      "Customers closest to GAZPRU: [1052  686  992  410 1076  569  249  202  155  371  527  901  126  346 1087\n",
      "  472 1075  916  733  703]\n",
      "Train set after filtering: (3216, 58)\n",
      "Test set after filtering: (6012, 58)\n",
      "Number of strong inluencers: 3\n",
      "Customers closest to GAZPRU: [ 371 1079  249  992 1087 1052  686 1076  410  787  569  669  953 1254  351\n",
      "  141 1130  346   25 1005]\n",
      "Train set after filtering: (4116, 58)\n",
      "Test set after filtering: (8611, 58)\n",
      "Number of strong inluencers: 0\n"
     ]
    }
   ],
   "source": [
    "from collections import defaultdict\n",
    "\n",
    "for rank in [25, 30, 35, 40, 45, 50]:\n",
    "    s[rank] = plop(rank=rank, k=100, ntries=5)"
   ]
  },
  {
   "cell_type": "code",
   "execution_count": 31,
   "metadata": {
    "collapsed": false
   },
   "outputs": [
    {
     "data": {
      "image/png": "[encoded data removed]",
      "text/plain": [
       "<matplotlib.figure.Figure at 0x10ef8eb50>"
      ]
     },
     "metadata": {},
     "output_type": "display_data"
    }
   ],
   "source": [
    "plt.figure(figsize=(15, 5))\n",
    "plt.plot(pd.DataFrame(s).describe().ix['mean', :])\n",
    "plt.xlabel('latent space dimension')\n",
    "plt.ylabel('TPR')\n",
    "plt.show()"
   ]
  },
  {
   "cell_type": "code",
   "execution_count": 19,
   "metadata": {
    "collapsed": false
   },
   "outputs": [
    {
     "data": {
      "text/html": [
       "<div>\n",
       "<table border=\"1\" class=\"dataframe\">\n",
       "  <thead>\n",
       "    <tr style=\"text-align: right;\">\n",
       "      <th></th>\n",
       "      <th>2</th>\n",
       "      <th>3</th>\n",
       "      <th>4</th>\n",
       "      <th>5</th>\n",
       "      <th>6</th>\n",
       "      <th>7</th>\n",
       "      <th>8</th>\n",
       "      <th>9</th>\n",
       "    </tr>\n",
       "  </thead>\n",
       "  <tbody>\n",
       "    <tr>\n",
       "      <th>0</th>\n",
       "      <td>0.571379</td>\n",
       "      <td>0.032795</td>\n",
       "      <td>0.066957</td>\n",
       "      <td>0.038160</td>\n",
       "      <td>0.115217</td>\n",
       "      <td>NaN</td>\n",
       "      <td>0.760996</td>\n",
       "      <td>0.798780</td>\n",
       "    </tr>\n",
       "    <tr>\n",
       "      <th>1</th>\n",
       "      <td>0.029820</td>\n",
       "      <td>0.383600</td>\n",
       "      <td>0.235951</td>\n",
       "      <td>0.098261</td>\n",
       "      <td>0.389486</td>\n",
       "      <td>NaN</td>\n",
       "      <td>0.316849</td>\n",
       "      <td>0.028529</td>\n",
       "    </tr>\n",
       "    <tr>\n",
       "      <th>2</th>\n",
       "      <td>0.450943</td>\n",
       "      <td>0.108755</td>\n",
       "      <td>0.572931</td>\n",
       "      <td>0.572931</td>\n",
       "      <td>0.312706</td>\n",
       "      <td>0.472644</td>\n",
       "      <td>NaN</td>\n",
       "      <td>0.265105</td>\n",
       "    </tr>\n",
       "    <tr>\n",
       "      <th>3</th>\n",
       "      <td>0.153778</td>\n",
       "      <td>0.166440</td>\n",
       "      <td>0.744739</td>\n",
       "      <td>0.017255</td>\n",
       "      <td>NaN</td>\n",
       "      <td>0.111739</td>\n",
       "      <td>0.041401</td>\n",
       "      <td>NaN</td>\n",
       "    </tr>\n",
       "    <tr>\n",
       "      <th>4</th>\n",
       "      <td>0.600864</td>\n",
       "      <td>0.029492</td>\n",
       "      <td>0.036000</td>\n",
       "      <td>0.037446</td>\n",
       "      <td>NaN</td>\n",
       "      <td>0.147621</td>\n",
       "      <td>0.030047</td>\n",
       "      <td>0.493610</td>\n",
       "    </tr>\n",
       "  </tbody>\n",
       "</table>\n",
       "</div>"
      ],
      "text/plain": [
       "          2         3         4         5         6         7         8  \\\n",
       "0  0.571379  0.032795  0.066957  0.038160  0.115217       NaN  0.760996   \n",
       "1  0.029820  0.383600  0.235951  0.098261  0.389486       NaN  0.316849   \n",
       "2  0.450943  0.108755  0.572931  0.572931  0.312706  0.472644       NaN   \n",
       "3  0.153778  0.166440  0.744739  0.017255       NaN  0.111739  0.041401   \n",
       "4  0.600864  0.029492  0.036000  0.037446       NaN  0.147621  0.030047   \n",
       "\n",
       "          9  \n",
       "0  0.798780  \n",
       "1  0.028529  \n",
       "2  0.265105  \n",
       "3       NaN  \n",
       "4  0.493610  "
      ]
     },
     "execution_count": 19,
     "metadata": {},
     "output_type": "execute_result"
    }
   ],
   "source": [
    "pd.DataFrame(s)"
   ]
  },
  {
   "cell_type": "code",
   "execution_count": 23,
   "metadata": {
    "collapsed": false
   },
   "outputs": [],
   "source": [
    "from joblib import Parallel, delayed"
   ]
  },
  {
   "cell_type": "code",
   "execution_count": null,
   "metadata": {
    "collapsed": false
   },
   "outputs": [
    {
     "name": "stdout",
     "output_type": "stream",
     "text": [
      "Cluster closest to GAZPRU: set([577, 674, 1284, 906, 737, 268, 1002, 492, 205, 14, 612, 212, 698, 482, 932, 314, 763, 957, 1028, 415])\n",
      "Train set after filtering: (5614, 58)\n",
      "Test set after filtering: (9141, 58)\n",
      "Number of strong inluencers: 1\n",
      "Cluster closest to GAZPRU: set([577, 674, 1028, 815, 673, 1002, 875, 492, 482, 14, 751, 612, 1170, 275, 212, 398, 1284, 698, 932, 906])\n",
      "Train set after filtering: (4649, 58)\n",
      "Test set after filtering: (8526, 58)\n",
      "Number of strong inluencers: 3\n",
      "Cluster closest to GAZPRU: set([673, 259, 1028, 1061, 1284, 577, 268, 1002, 875, 492, 205, 14, 815, 1170, 212, 612, 698, 763, 906, 751])\n",
      "Train set after filtering: (5211, 58)\n",
      "Test set after filtering: (9057, 58)\n",
      "Number of strong inluencers: 6\n",
      "Cluster closest to GAZPRU: set([577, 674, 1028, 673, 314, 1002, 492, 482, 14, 751, 612, 1170, 275, 212, 398, 1284, 698, 932, 957, 415])\n",
      "Train set after filtering: (5190, 58)\n",
      "Test set after filtering: (8869, 58)\n",
      "Number of strong inluencers: 1\n",
      "Cluster closest to GAZPRU: set([577, 674, 1028, 673, 314, 1002, 875, 492, 482, 14, 612, 1170, 275, 212, 398, 1284, 698, 932, 957, 415])\n",
      "Train set after filtering: (5128, 58)\n",
      "Test set after filtering: (8886, 58)\n",
      "Number of strong inluencers: 3\n",
      "Cluster closest to GAZPRU: set([243, 577, 1028, 229, 1284, 673, 268, 1002, 875, 492, 14, 751, 1170, 275, 212, 398, 612, 698, 815, 1061])\n",
      "Train set after filtering: (5394, 58)\n",
      "Test set after filtering: (9812, 58)\n",
      "Number of strong inluencers: 6\n",
      "Cluster closest to GAZPRU: set([577, 674, 283, 1284, 229, 776, 1002, 14, 957, 1170, 275, 398, 377, 696, 612, 698, 932, 506, 1028, 751])\n",
      "Train set after filtering: (4475, 58)\n",
      "Test set after filtering: (9363, 58)\n",
      "Number of strong inluencers: 5\n",
      "Cluster closest to GAZPRU: set([577, 674, 1284, 906, 776, 268, 1002, 492, 14, 815, 1170, 275, 212, 366, 612, 698, 763, 957, 1028, 415])\n",
      "Train set after filtering: (5136, 58)\n",
      "Test set after filtering: (8847, 58)\n",
      "Number of strong inluencers: 1\n",
      "Cluster closest to GAZPRU: set([577, 674, 867, 1028, 673, 1002, 875, 492, 482, 14, 815, 612, 1170, 275, 212, 398, 1284, 698, 932, 751])\n",
      "Train set after filtering: (4617, 58)\n",
      "Test set after filtering: (8574, 58)\n",
      "Number of strong inluencers: 4\n",
      "Cluster closest to GAZPRU: set([577, 674, 1347, 1284, 229, 673, 776, 1002, 492, 14, 815, 612, 366, 398, 593, 377, 932, 698, 506, 1028])\n",
      "Train set after filtering: (4661, 58)\n",
      "Test set after filtering: (8693, 58)\n",
      "Number of strong inluencers: 2\n",
      "Cluster closest to GAZPRU: set([577, 674, 932, 737, 268, 906, 492, 205, 14, 1002, 1170, 212, 612, 1028, 1284, 698, 763, 957, 673, 415])\n",
      "Train set after filtering: (5057, 58)\n",
      "Test set after filtering: (8902, 58)\n",
      "Number of strong inluencers: 1\n",
      "Cluster closest to GAZPRU: set([577, 674, 867, 932, 650, 737, 275, 906, 587, 366, 957, 433, 51, 212, 686, 40, 1284, 314, 698, 415])\n",
      "Train set after filtering: (5027, 58)\n",
      "Test set after filtering: (9006, 58)\n",
      "Number of strong inluencers: 2\n",
      "Cluster closest to GAZPRU: set([906, 673, 1028, 229, 1284, 577, 932, 1002, 875, 492, 14, 751, 1170, 275, 398, 343, 612, 698, 815, 957])\n",
      "Train set after filtering: (4479, 58)\n",
      "Test set after filtering: (8688, 58)\n",
      "Number of strong inluencers: 3\n",
      "Cluster closest to GAZPRU: set([577, 674, 1284, 737, 314, 268, 1002, 492, 205, 14, 612, 1170, 275, 212, 366, 1028, 698, 763, 957, 415])\n",
      "Train set after filtering: (5897, 58)\n",
      "Test set after filtering: (9709, 58)\n",
      "Number of strong inluencers: 1\n",
      "Cluster closest to GAZPRU: set([243, 577, 674, 1028, 229, 1284, 673, 932, 1002, 875, 492, 14, 751, 1170, 275, 212, 398, 612, 698, 815])\n",
      "Train set after filtering: (5263, 58)\n",
      "Test set after filtering: (9357, 58)\n",
      "Number of strong inluencers: 3\n",
      "Cluster closest to GAZPRU: set([577, 674, 612, 1222, 698, 492, 1002, 268, 14, 815, 80, 1170, 1043, 212, 1284, 506, 763, 957, 510, 415])\n",
      "Train set after filtering: (5271, 58)\n",
      "Test set after filtering: (10557, 58)\n",
      "Number of strong inluencers: 1\n",
      "Cluster closest to GAZPRU: set([577, 674, 1284, 673, 268, 1002, 875, 492, 14, 957, 612, 1170, 212, 366, 1028, 698, 932, 751, 906, 415])\n",
      "Train set after filtering: (4815, 58)\n",
      "Test set after filtering: (8506, 58)\n",
      "Number of strong inluencers: 3\n",
      "Cluster closest to GAZPRU: set([577, 1028, 229, 1284, 673, 1002, 875, 492, 14, 815, 80, 1170, 275, 212, 906, 398, 612, 698, 751, 506])\n",
      "Train set after filtering: (5269, 58)\n",
      "Test set after filtering: (11304, 58)\n",
      "Number of strong inluencers: 1\n",
      "Cluster closest to GAZPRU: set([673, 674, 259, 932, 577, 906, 492, 14, 957, 612, 1170, 275, 212, 398, 377, 1284, 698, 815, 1002, 1028])\n",
      "Train set after filtering: (4971, 58)"
     ]
    }
   ],
   "source": [
    "Parallel(n_jobs=5)(plop(rank=i) for i in range(2, 10))"
   ]
  },
  {
   "cell_type": "code",
   "execution_count": null,
   "metadata": {
    "collapsed": true
   },
   "outputs": [],
   "source": []
  }
 ],
 "metadata": {
  "kernelspec": {
   "display_name": "Python 2",
   "language": "python",
   "name": "python2"
  },
  "language_info": {
   "codemirror_mode": {
    "name": "ipython",
    "version": 2
   },
   "file_extension": ".py",
   "mimetype": "text/x-python",
   "name": "python",
   "nbconvert_exporter": "python",
   "pygments_lexer": "ipython2",
   "version": "2.7.11"
  }
 },
 "nbformat": 4,
 "nbformat_minor": 0
}
